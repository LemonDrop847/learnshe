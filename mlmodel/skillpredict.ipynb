{
 "cells": [
  {
   "cell_type": "code",
   "execution_count": 23,
   "metadata": {},
   "outputs": [],
   "source": [
    "import pandas as pd\n",
    "import tensorflow as tf\n",
    "from sklearn.ensemble import RandomForestClassifier\n",
    "from sklearn.metrics import classification_report\n",
    "from sklearn.model_selection import train_test_split"
   ]
  },
  {
   "cell_type": "code",
   "execution_count": 24,
   "metadata": {},
   "outputs": [],
   "source": [
    "data = pd.read_csv('skills_data.csv')"
   ]
  },
  {
   "cell_type": "code",
   "execution_count": 25,
   "metadata": {},
   "outputs": [],
   "source": [
    "if 'skills' not in data.columns:\n",
    "    raise KeyError(\"The data does not contain a 'skills' column\")\n",
    "\n",
    "# Check if the job_title column exists\n",
    "if 'job_title' not in data.columns:\n",
    "    raise KeyError(\"The data does not contain a 'job_title' column\")\n",
    "\n",
    "# Check if the data is empty\n",
    "if data.empty:\n",
    "    raise ValueError(\"The data is empty\")"
   ]
  },
  {
   "cell_type": "code",
   "execution_count": 26,
   "metadata": {},
   "outputs": [],
   "source": [
    "data['skills'] = data['skills'].apply(lambda x: str(x).split(','))"
   ]
  },
  {
   "cell_type": "code",
   "execution_count": 27,
   "metadata": {},
   "outputs": [],
   "source": [
    "all_skills = []\n",
    "for skills in data['skills']:\n",
    "    all_skills.extend(skills)\n",
    "unique_skills = list(set(all_skills))"
   ]
  },
  {
   "cell_type": "code",
   "execution_count": 28,
   "metadata": {},
   "outputs": [],
   "source": [
    "matrix = []\n",
    "for skills in data['skills']:\n",
    "    skill_vector = [1 if skill in skills else 0 for skill in unique_skills]\n",
    "    matrix.append(skill_vector)"
   ]
  },
  {
   "cell_type": "code",
   "execution_count": 29,
   "metadata": {},
   "outputs": [],
   "source": [
    "df = pd.DataFrame(matrix, columns=unique_skills)"
   ]
  },
  {
   "cell_type": "code",
   "execution_count": 30,
   "metadata": {},
   "outputs": [],
   "source": [
    "X_train, X_test, y_train, y_test = train_test_split(df, data['job_title'], train_size=0.8,random_state=1)"
   ]
  },
  {
   "cell_type": "code",
   "execution_count": 31,
   "metadata": {},
   "outputs": [],
   "source": [
    "clf = RandomForestClassifier()"
   ]
  },
  {
   "cell_type": "code",
   "execution_count": 32,
   "metadata": {},
   "outputs": [
    {
     "data": {
      "text/plain": [
       "RandomForestClassifier()"
      ]
     },
     "execution_count": 32,
     "metadata": {},
     "output_type": "execute_result"
    }
   ],
   "source": [
    "clf.fit(X_train, y_train)\n"
   ]
  },
  {
   "cell_type": "code",
   "execution_count": 33,
   "metadata": {},
   "outputs": [
    {
     "name": "stdout",
     "output_type": "stream",
     "text": [
      "Accuracy: 11.11111111111111\n"
     ]
    }
   ],
   "source": [
    "accuracy = clf.score(X_test, y_test)\n",
    "print(\"Accuracy:\", accuracy*100)"
   ]
  },
  {
   "cell_type": "code",
   "execution_count": 34,
   "metadata": {},
   "outputs": [
    {
     "name": "stdout",
     "output_type": "stream",
     "text": [
      "                                  precision    recall  f1-score   support\n",
      "\n",
      "               Account Executive       0.00      0.00      0.00       1.0\n",
      "Business Development Coordinator       0.00      0.00      0.00       1.0\n",
      "                Content Marketer       0.00      0.00      0.00       1.0\n",
      "               Financial Analyst       0.00      0.00      0.00       1.0\n",
      "                Graphic Designer       0.00      0.00      0.00       0.0\n",
      "     Human Resources Coordinator       0.00      0.00      0.00       1.0\n",
      "         Human Resources Manager       0.00      0.00      0.00       0.0\n",
      "           IT Support Technician       0.00      0.00      0.00       1.0\n",
      "               Marketing Analyst       0.00      0.00      0.00       1.0\n",
      "               Marketing Manager       0.00      0.00      0.00       0.0\n",
      "    Public Relations Coordinator       0.00      0.00      0.00       1.0\n",
      "                 Software Tester       0.00      0.00      0.00       0.0\n",
      "               Technical Trainer       0.00      0.00      0.00       1.0\n",
      "                    Web Designer       0.00      0.00      0.00       0.0\n",
      "\n",
      "                        accuracy                           0.00       9.0\n",
      "                       macro avg       0.00      0.00      0.00       9.0\n",
      "                    weighted avg       0.00      0.00      0.00       9.0\n",
      "\n"
     ]
    },
    {
     "name": "stderr",
     "output_type": "stream",
     "text": [
      "E:\\CodingTools\\Anaconda\\lib\\site-packages\\sklearn\\metrics\\_classification.py:1318: UndefinedMetricWarning: Precision and F-score are ill-defined and being set to 0.0 in labels with no predicted samples. Use `zero_division` parameter to control this behavior.\n",
      "  _warn_prf(average, modifier, msg_start, len(result))\n",
      "E:\\CodingTools\\Anaconda\\lib\\site-packages\\sklearn\\metrics\\_classification.py:1318: UndefinedMetricWarning: Recall and F-score are ill-defined and being set to 0.0 in labels with no true samples. Use `zero_division` parameter to control this behavior.\n",
      "  _warn_prf(average, modifier, msg_start, len(result))\n",
      "E:\\CodingTools\\Anaconda\\lib\\site-packages\\sklearn\\metrics\\_classification.py:1318: UndefinedMetricWarning: Precision and F-score are ill-defined and being set to 0.0 in labels with no predicted samples. Use `zero_division` parameter to control this behavior.\n",
      "  _warn_prf(average, modifier, msg_start, len(result))\n",
      "E:\\CodingTools\\Anaconda\\lib\\site-packages\\sklearn\\metrics\\_classification.py:1318: UndefinedMetricWarning: Recall and F-score are ill-defined and being set to 0.0 in labels with no true samples. Use `zero_division` parameter to control this behavior.\n",
      "  _warn_prf(average, modifier, msg_start, len(result))\n",
      "E:\\CodingTools\\Anaconda\\lib\\site-packages\\sklearn\\metrics\\_classification.py:1318: UndefinedMetricWarning: Precision and F-score are ill-defined and being set to 0.0 in labels with no predicted samples. Use `zero_division` parameter to control this behavior.\n",
      "  _warn_prf(average, modifier, msg_start, len(result))\n",
      "E:\\CodingTools\\Anaconda\\lib\\site-packages\\sklearn\\metrics\\_classification.py:1318: UndefinedMetricWarning: Recall and F-score are ill-defined and being set to 0.0 in labels with no true samples. Use `zero_division` parameter to control this behavior.\n",
      "  _warn_prf(average, modifier, msg_start, len(result))\n"
     ]
    }
   ],
   "source": [
    "predictions = clf.predict(X_test)\n",
    "report = classification_report(data['job_title'][int(0.8*len(df)):], predictions)\n",
    "print(report)"
   ]
  },
  {
   "cell_type": "code",
   "execution_count": 35,
   "metadata": {},
   "outputs": [],
   "source": [
    "def recommend_skills(user_skills):\n",
    "    # Convert the user's skills into a vector\n",
    "    user_vector = [1 if skill in user_skills else 0 for skill in unique_skills]\n",
    "\n",
    "    # Predict the most likely job for the user based on their skills\n",
    "    job = clf.predict([user_vector])[0]\n",
    "\n",
    "    # Find the skills for the predicted job that are not included in the input skills\n",
    "    job_skills = data[data['job_title'] == job]['skills'].iloc[0]\n",
    "    recommendations = [skill for skill in job_skills if skill not in user_skills]\n",
    "\n",
    "    # Return the top 3 skills to learn\n",
    "    return recommendations[:3]"
   ]
  },
  {
   "cell_type": "code",
   "execution_count": 36,
   "metadata": {},
   "outputs": [
    {
     "name": "stdout",
     "output_type": "stream",
     "text": [
      "['QA', 'testing', 'automation']\n"
     ]
    },
    {
     "name": "stderr",
     "output_type": "stream",
     "text": [
      "E:\\CodingTools\\Anaconda\\lib\\site-packages\\sklearn\\base.py:450: UserWarning: X does not have valid feature names, but RandomForestClassifier was fitted with feature names\n",
      "  warnings.warn(\n"
     ]
    }
   ],
   "source": [
    "recommendations = recommend_skills(['Figma', 'Adobe'])\n",
    "print(recommendations) "
   ]
  },
  {
   "cell_type": "code",
   "execution_count": 37,
   "metadata": {},
   "outputs": [],
   "source": [
    "import pickle"
   ]
  },
  {
   "cell_type": "code",
   "execution_count": 38,
   "metadata": {},
   "outputs": [],
   "source": [
    "with open('model.pkl', 'wb') as file:\n",
    "    pickle.dump(clf, file)"
   ]
  },
  {
   "cell_type": "code",
   "execution_count": 39,
   "metadata": {},
   "outputs": [
    {
     "name": "stdout",
     "output_type": "stream",
     "text": [
      "['Java', 'C++', 'JavaScript']\n"
     ]
    },
    {
     "name": "stderr",
     "output_type": "stream",
     "text": [
      "E:\\CodingTools\\Anaconda\\lib\\site-packages\\sklearn\\base.py:450: UserWarning: X does not have valid feature names, but RandomForestClassifier was fitted with feature names\n",
      "  warnings.warn(\n"
     ]
    }
   ],
   "source": [
    "# Load the model from the file\n",
    "with open('model.pkl', 'rb') as file:\n",
    "    model = pickle.load(file)\n",
    "    \n",
    "user_skills = ['Python']\n",
    "user_vector = [1 if skill in user_skills else 0 for skill in unique_skills]\n",
    "# Make predictions with the model\n",
    "job = model.predict([user_vector])[0]\n",
    "\n",
    "# Sort the predictions by the likelihood of the user getting a job\n",
    "job_skills = data[data['job_title'] == job]['skills'].iloc[0]\n",
    "recommendations = [skill for skill in job_skills if skill not in user_skills]\n",
    "\n",
    "    # Return the top 3 skills to learn\n",
    "print(recommendations[:3])\n",
    "\n"
   ]
  },
  {
   "cell_type": "code",
   "execution_count": 21,
   "metadata": {},
   "outputs": [],
   "source": []
  }
 ],
 "metadata": {
  "kernelspec": {
   "display_name": "Python 3 (ipykernel)",
   "language": "python",
   "name": "python3"
  },
  "language_info": {
   "codemirror_mode": {
    "name": "ipython",
    "version": 3
   },
   "file_extension": ".py",
   "mimetype": "text/x-python",
   "name": "python",
   "nbconvert_exporter": "python",
   "pygments_lexer": "ipython3",
   "version": "3.9.13"
  }
 },
 "nbformat": 4,
 "nbformat_minor": 2
}
